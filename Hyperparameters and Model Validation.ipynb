{
 "cells": [
  {
   "cell_type": "markdown",
   "metadata": {},
   "source": [
    "# **Hyperparameters and Model Validation**\n",
    "This part of jupyter notebook deals with model validations and hyper parameter optimization which includes how we can use these features to improve our model and make a better accurate hypothesis. \n",
    "\n",
    "# Thinking about Model Validation \n",
    "In this priciple we are going to test validity of model that is after selecting hyper params how we can split data and what accuracy can be achived after using this model.\n",
    "Model validation is also important as it not only determines accuracy score but also detemines and help us solve **Bias-Variance Delima**, Which can be really usefull in better tuning of model   "
   ]
  },
  {
   "cell_type": "markdown",
   "metadata": {},
   "source": [
    "## Model Validation: wrong way \n",
    "On contrary we are we just convert our data into matrix and then apply `fit()` method on whole data and then again use *features* matrix **x** to predict our outcomes which is considered as cheating in terms of Machine Learning which i.e. we are using same data which is used to learn by our model."
   ]
  },
  {
   "cell_type": "code",
   "execution_count": 1,
   "metadata": {},
   "outputs": [],
   "source": [
    "# loding iris data set from scikit-learn \n",
    "from sklearn.datasets import load_iris\n",
    "\n",
    "# assigining iris data into iris variable\n",
    "iris = load_iris()\n",
    "\n",
    "# storing features in X\n",
    "X = iris.data\n",
    "\n",
    "# storing targets in y \n",
    "y = iris.target"
   ]
  },
  {
   "cell_type": "code",
   "execution_count": 2,
   "metadata": {},
   "outputs": [
    {
     "data": {
      "text/plain": [
       "KNeighborsClassifier(algorithm='auto', leaf_size=30, metric='minkowski',\n",
       "           metric_params=None, n_jobs=1, n_neighbors=1, p=2,\n",
       "           weights='uniform')"
      ]
     },
     "execution_count": 2,
     "metadata": {},
     "output_type": "execute_result"
    }
   ],
   "source": [
    "# loading Knearestneighbor model form sklearn \n",
    "from sklearn.neighbors import KNeighborsClassifier\n",
    "\n",
    "# creating a model of KNN with 1 neighbors \n",
    "model = KNeighborsClassifier(n_neighbors=1)\n",
    "\n",
    "# fiting our model with data \n",
    "model.fit(X,y)"
   ]
  },
  {
   "cell_type": "code",
   "execution_count": 3,
   "metadata": {},
   "outputs": [
    {
     "data": {
      "text/plain": [
       "1.0"
      ]
     },
     "execution_count": 3,
     "metadata": {},
     "output_type": "execute_result"
    }
   ],
   "source": [
    "# importing accuracy function \n",
    "from sklearn.metrics import accuracy_score\n",
    "\n",
    "# predicting values of data features\n",
    "y_model = model.predict(X)\n",
    "\n",
    "# determining accuracy of our model\n",
    "accuracy_score(y,y_model)"
   ]
  },
  {
   "cell_type": "markdown",
   "metadata": {},
   "source": [
    ">**Note**: We see an accuracy score of 1.0, which indicates that 100% of points were correctly labeled by our model! But is this truly measuring the expected accuracy?Have we really come upon a model that we expect to be correct 100% of the time?\n",
    "\n",
    ">As you may have gathered, the answer is no. In fact, this approach contains a fundamental flaw: it trains and evaluates the model on the same data. Furthermore, the nearest neighbor model is an instance-based estimator that simply stores the training data, and predicts labels by comparing new data to these stored points: except in contrived cases, it will get 100% accuracy every time!"
   ]
  },
  {
   "cell_type": "markdown",
   "metadata": {},
   "source": [
    "## Model validation the right way: Holdout sets\n",
    "So what can be done? A better sense of a model's performance can be found using what's known as a holdout set: that is, we hold back some subset of the data from the training of the model, and then use this holdout set to check the model performance. This splitting can be done using the train_test_split utility in Scikit-Learn:"
   ]
  },
  {
   "cell_type": "code",
   "execution_count": 4,
   "metadata": {},
   "outputs": [
    {
     "data": {
      "text/plain": [
       "0.8947368421052632"
      ]
     },
     "execution_count": 4,
     "metadata": {},
     "output_type": "execute_result"
    }
   ],
   "source": [
    "# importing train and test split data \n",
    "from sklearn.model_selection import train_test_split\n",
    "\n",
    "# breaking data into train and test data \n",
    "X1,X2,y1,y2 = train_test_split(X,y)\n",
    "\n",
    "# fitting data on one set of data \n",
    "model.fit(X1,y1)\n",
    "\n",
    "# evaluate model values \n",
    "y_model = model.predict(X2)\n",
    "\n",
    "# determining accuracy \n",
    "accuracy_score(y2, y_model)"
   ]
  },
  {
   "cell_type": "markdown",
   "metadata": {},
   "source": [
    "## Model validation via cross-validation\n",
    "One of the most disadvantage of holdouts are that we are only able to perform training on one half of data and other half of data is left for testing which may reduce or degrade quality of our model. \n",
    "\n",
    "To over come this problem we can divide data into portions and then perform tests on each of the portions and tune better model with the help of this phenomena, it is commonly knows as cross validation of K-fold CV. "
   ]
  },
  {
   "cell_type": "code",
   "execution_count": 5,
   "metadata": {},
   "outputs": [
    {
     "data": {
      "text/plain": [
       "(0.9464285714285714, 0.8947368421052632)"
      ]
     },
     "execution_count": 5,
     "metadata": {},
     "output_type": "execute_result"
    }
   ],
   "source": [
    "# using second part as training data\n",
    "y2_model = model.fit(X1, y1).predict(X2)\n",
    "\n",
    "# using first portion of data as training data  \n",
    "y1_model = model.fit(X2, y2).predict(X1)\n",
    "\n",
    "# computing accuracy of both models\n",
    "accuracy_score(y1,y1_model), accuracy_score(y2,y2_model)"
   ]
  },
  {
   "cell_type": "markdown",
   "metadata": {},
   "source": [
    "Instead of doing this process mannualy we can use predifiened method of scikit-learn `cross_val_score` to perform this task:"
   ]
  },
  {
   "cell_type": "code",
   "execution_count": 6,
   "metadata": {},
   "outputs": [
    {
     "name": "stderr",
     "output_type": "stream",
     "text": [
      "C:\\ProgramData\\Anaconda3\\lib\\site-packages\\sklearn\\cross_validation.py:41: DeprecationWarning: This module was deprecated in version 0.18 in favor of the model_selection module into which all the refactored classes and functions are moved. Also note that the interface of the new CV iterators are different from that of this module. This module will be removed in 0.20.\n",
      "  \"This module will be removed in 0.20.\", DeprecationWarning)\n"
     ]
    },
    {
     "data": {
      "text/plain": [
       "array([0.96666667, 0.96666667, 0.93333333, 0.93333333, 1.        ])"
      ]
     },
     "execution_count": 6,
     "metadata": {},
     "output_type": "execute_result"
    }
   ],
   "source": [
    "# importing cross_val_score method\n",
    "from sklearn.cross_validation import cross_val_score\n",
    "\n",
    "# using different combinations to calculate model accuracy using cross_validation\n",
    "cross_val_score(model, X, y, cv=5) # 5 differnt scores"
   ]
  },
  {
   "cell_type": "markdown",
   "metadata": {},
   "source": [
    "For example, we might wish to go to the extreme case in which our number of folds is equal to the number of data points: that is, we train on all points but one in each trial. This type of cross-validation is known as leave-one-out cross validation, and can be used as follows:"
   ]
  },
  {
   "cell_type": "code",
   "execution_count": 7,
   "metadata": {},
   "outputs": [
    {
     "data": {
      "text/plain": [
       "array([1., 1., 1., 1., 1., 1., 1., 1., 1., 1., 1., 1., 1., 1., 1., 1., 1.,\n",
       "       1., 1., 1., 1., 1., 1., 1., 1., 1., 1., 1., 1., 1., 1., 1., 1., 1.,\n",
       "       1., 1., 1., 1., 1., 1., 1., 1., 1., 1., 1., 1., 1., 1., 1., 1., 1.,\n",
       "       1., 1., 1., 1., 1., 1., 1., 1., 1., 1., 1., 1., 1., 1., 1., 1., 1.,\n",
       "       1., 1., 0., 1., 0., 1., 1., 1., 1., 1., 1., 1., 1., 1., 1., 0., 1.,\n",
       "       1., 1., 1., 1., 1., 1., 1., 1., 1., 1., 1., 1., 1., 1., 1., 1., 1.,\n",
       "       1., 1., 1., 1., 0., 1., 1., 1., 1., 1., 1., 1., 1., 1., 1., 1., 1.,\n",
       "       0., 1., 1., 1., 1., 1., 1., 1., 1., 1., 1., 1., 1., 1., 0., 1., 1.,\n",
       "       1., 1., 1., 1., 1., 1., 1., 1., 1., 1., 1., 1., 1., 1.])"
      ]
     },
     "execution_count": 7,
     "metadata": {},
     "output_type": "execute_result"
    }
   ],
   "source": [
    "# importing leaveoneout from cross validation \n",
    "from sklearn.cross_validation import LeaveOneOut\n",
    "\n",
    "# getting scores of leave one out \n",
    "scores = cross_val_score(model, X, y, cv=LeaveOneOut(len(X)))\n",
    "\n",
    "# printing scores \n",
    "scores"
   ]
  },
  {
   "cell_type": "markdown",
   "metadata": {},
   "source": [
    "> * 1.0 denotes Sucessful \n",
    "> * 0.0 denotes Unsucessful"
   ]
  },
  {
   "cell_type": "code",
   "execution_count": 8,
   "metadata": {},
   "outputs": [
    {
     "data": {
      "text/plain": [
       "0.96"
      ]
     },
     "execution_count": 8,
     "metadata": {},
     "output_type": "execute_result"
    }
   ],
   "source": [
    "# mean of score \n",
    "scores.mean()"
   ]
  },
  {
   "cell_type": "markdown",
   "metadata": {},
   "source": [
    "# Selecting the Best Model\n",
    "\n",
    "Now that we have seen how our validation and cross validation works, lets get deep dive into how we can tune hyper parameters and create a better model.\n",
    "\n",
    "*if our estimator is underperforming, how should we move forward?* There are several possible answers:\n",
    "* Use a more complicated/more flexible model\n",
    "* Use a less complicated/less flexible model\n",
    "* Gather more training samples\n",
    "* Gather more data to add features to each sample\n",
    "\n"
   ]
  },
  {
   "cell_type": "markdown",
   "metadata": {},
   "source": [
    "## Bias-Variance trade off\n",
    "\n",
    "Fundamentally, the question of \"the best model\" is about finding a sweet spot in the tradeoff between bias and variance.\n",
    "\n",
    "There is always a problem if we should leave some data or not or should we just use all of the data to train our model, leading towards underfitting and overfitting respectively. To overcome this problem we are there to find a sweet spot i.e. we are there to tune our model just enough that it is between both the end points and adequate to predict and adapt new chages in or model. "
   ]
  },
  {
   "cell_type": "markdown",
   "metadata": {},
   "source": [
    "## Validation curves in Scikit-Learn\n",
    "\n",
    "Let's look at an example of using cross-validation to compute the validation curve for a class of models. Here we will use a polynomial regression model: this is a generalized linear model in which the degree of the polynomial is a tunable parameter. For example, a degree-1 polynomial fits a straight line to the data; for model parameters **a and b**:\n",
    "<center>**y=ax+b**</center>\n",
    "\n",
    "A degree-3 polynomial fits a cubic curve to the data; for model parameters **a,b,c,d**:\n",
    "<center>** y = ax^3 + bx^2 + cx + d**</center>"
   ]
  },
  {
   "cell_type": "code",
   "execution_count": 9,
   "metadata": {},
   "outputs": [],
   "source": [
    "# importing polynomial features \n",
    "from sklearn.preprocessing import PolynomialFeatures\n",
    "\n",
    "# imprting liner regression \n",
    "from sklearn.linear_model import LinearRegression\n",
    "\n",
    "# importing pipeline \n",
    "from sklearn.pipeline import make_pipeline\n",
    "\n",
    "# function to define polynomial regression \n",
    "def PolynomialRegression(degree = 2, **kwargs):\n",
    "    # returning a pipeline\n",
    "    return make_pipeline(PolynomialFeatures(degree), LinearRegression(**kwargs))"
   ]
  },
  {
   "cell_type": "code",
   "execution_count": 10,
   "metadata": {},
   "outputs": [],
   "source": [
    "# import numpy for matrix maths \n",
    "import numpy as np\n",
    "\n",
    "# function to genreate data \n",
    "def make_data(N, err= 1.0, rseed = 1 ):\n",
    "    # randomly sample data \n",
    "    rng = np.random.RandomState(rseed)\n",
    "    \n",
    "    # X data features \n",
    "    X = rng.randn(N,1) ** 2\n",
    "    \n",
    "    # y target data \n",
    "    y = 10 - 1.0 / (X.ravel() + 0.1)\n",
    "    \n",
    "    if err > 0:\n",
    "        y+= err * rng.randn(N)\n",
    "    return X,y\n",
    "\n",
    "# making a data \n",
    "X,y = make_data(40)"
   ]
  },
  {
   "cell_type": "code",
   "execution_count": 11,
   "metadata": {},
   "outputs": [
    {
     "data": {
      "text/plain": [
       "<matplotlib.legend.Legend at 0x1b74ed5bcc0>"
      ]
     },
     "execution_count": 11,
     "metadata": {},
     "output_type": "execute_result"
    },
    {
     "data": {
      "image/png": "[encoded data removed]",
      "text/plain": [
       "<matplotlib.figure.Figure at 0x1b74c7c3710>"
      ]
     },
     "metadata": {},
     "output_type": "display_data"
    }
   ],
   "source": [
    "# data visualization \n",
    "%matplotlib inline\n",
    "# graph library\n",
    "import matplotlib.pyplot as plt \n",
    "\n",
    "# plot formatting \n",
    "import seaborn as sns; sns.set()\n",
    "\n",
    "# creating a testing data \n",
    "X_test = np.linspace(-0.1, 1.1, 500)[:, None]\n",
    "\n",
    "# plot X,y points \n",
    "plt.scatter(X.ravel(), y, color='black')\n",
    "axis = plt.axis()\n",
    "\n",
    "# for different degrees\n",
    "for degree in [1,3,5]:\n",
    "    y_test = PolynomialRegression(degree).fit(X,y).predict(X_test)\n",
    "    plt.plot(X_test.ravel(), y_test, label='degree {}'.format(degree))\n",
    "# defining X limit\n",
    "plt.xlim(-0.1, 1.0)\n",
    "# defining y limit\n",
    "plt.ylim(-2, 12)\n",
    "plt.legend(loc = 'best')"
   ]
  },
  {
   "cell_type": "markdown",
   "metadata": {},
   "source": [
    "We can make progress in this by visualizing the validation curve for this particular data and model; this can be done straightforwardly using the `validation_curve` convenience routine provided by Scikit-Learn. Given a model, data, parameter name, and a range to explore, this function will automatically compute both the training score and validation score across the range:"
   ]
  },
  {
   "cell_type": "code",
   "execution_count": 12,
   "metadata": {},
   "outputs": [
    {
     "name": "stderr",
     "output_type": "stream",
     "text": [
      "C:\\ProgramData\\Anaconda3\\lib\\site-packages\\sklearn\\learning_curve.py:22: DeprecationWarning: This module was deprecated in version 0.18 in favor of the model_selection module into which all the functions are moved. This module will be removed in 0.20\n",
      "  DeprecationWarning)\n"
     ]
    },
    {
     "data": {
      "image/png": "[encoded data removed]",
      "text/plain": [
       "<matplotlib.figure.Figure at 0x1b74b36f198>"
      ]
     },
     "metadata": {},
     "output_type": "display_data"
    }
   ],
   "source": [
    "# importing validation curve \n",
    "from sklearn.learning_curve import validation_curve\n",
    "\n",
    "# degrees \n",
    "degree = np.arange(0,21)\n",
    "\n",
    "# applying validation curve \n",
    "train_score, val_score = validation_curve(PolynomialRegression(), X,y, 'polynomialfeatures__degree', degree, cv=7)\n",
    "\n",
    "# plotting train score\n",
    "plt.plot(degree, np.median(train_score, 1), color='blue', label='training score')\n",
    "\n",
    "# plotting validation score\n",
    "plt.plot(degree, np.median(val_score, 1), color='red', label='validation score')\n",
    "\n",
    "plt.legend(loc='best')\n",
    "plt.ylim(0,1)\n",
    "plt.xlabel('degree')\n",
    "plt.ylabel('scores');"
   ]
  },
  {
   "cell_type": "code",
   "execution_count": 13,
   "metadata": {},
   "outputs": [
    {
     "data": {
      "image/png": "[encoded data removed]",
      "text/plain": [
       "<matplotlib.figure.Figure at 0x1b74c31cf28>"
      ]
     },
     "metadata": {},
     "output_type": "display_data"
    }
   ],
   "source": [
    "# read variance curve \n",
    "\n",
    "plt.scatter(X.ravel(), y)\n",
    "# define x lim\n",
    "lim = plt.axis()\n",
    "# find y_test\n",
    "y_test = PolynomialRegression(3).fit(X, y).predict(X_test)\n",
    "\n",
    "# plotting the graph\n",
    "plt.plot(X_test.ravel(), y_test);\n",
    "\n",
    "#plotting limit\n",
    "plt.axis(lim);"
   ]
  },
  {
   "cell_type": "markdown",
   "metadata": {},
   "source": [
    "# Learning Curve \n",
    "\n",
    "One important aspect of model complexity is that the optimal model will generally depend on the size of your training data. For example, let's generate a new dataset with a factor of five more points:"
   ]
  },
  {
   "cell_type": "code",
   "execution_count": 14,
   "metadata": {},
   "outputs": [
    {
     "data": {
      "image/png": "[encoded data removed]",
      "text/plain": [
       "<matplotlib.figure.Figure at 0x1b74ee11198>"
      ]
     },
     "metadata": {},
     "output_type": "display_data"
    }
   ],
   "source": [
    "# generate data set of 200 points \n",
    "X2,y2 = make_data(200)\n",
    "\n",
    "# ploting scatter plot of above genereated data \n",
    "plt.scatter(X2.ravel(),y2);"
   ]
  },
  {
   "cell_type": "code",
   "execution_count": 15,
   "metadata": {},
   "outputs": [
    {
     "data": {
      "image/png": "[encoded data removed]",
      "text/plain": [
       "<matplotlib.figure.Figure at 0x1b74ea63780>"
      ]
     },
     "metadata": {},
     "output_type": "display_data"
    }
   ],
   "source": [
    "# define degree\n",
    "degree = np.arange(21)\n",
    "\n",
    "# compute validation curve\n",
    "train_score2, val_score2 = validation_curve(PolynomialRegression(), X2, y2,\n",
    "                                            'polynomialfeatures__degree', degree, cv=7)\n",
    "\n",
    "#plotting train_score 2  \n",
    "plt.plot(degree, np.median(train_score2, 1), color='blue', label='training score')\n",
    "\n",
    "#plotting val score 2\n",
    "plt.plot(degree, np.median(val_score2, 1), color='red', label='validation score')\n",
    "\n",
    "#plotting train score\n",
    "plt.plot(degree, np.median(train_score, 1), color='blue', alpha=0.3, linestyle='dashed')\n",
    "\n",
    "#plotting val score\n",
    "plt.plot(degree, np.median(val_score, 1), color='red', alpha=0.3, linestyle='dashed')\n",
    "plt.legend(loc='lower center')\n",
    "plt.ylim(0, 1)\n",
    "plt.xlabel('degree')\n",
    "plt.ylabel('score');"
   ]
  },
  {
   "cell_type": "markdown",
   "metadata": {},
   "source": [
    ">Thus we see that the behavior of the validation curve has not one but two important inputs: the model complexity and the number of training points. It is often useful to to explore the behavior of the model as a function of the number of training points, which we can do by using increasingly larger subsets of the data to fit our model. A plot of the training/validation score with respect to the size of the training set is known as a learning curve."
   ]
  },
  {
   "cell_type": "markdown",
   "metadata": {},
   "source": [
    "The general behavior we would expect from a learning curve is this:\n",
    "* A model of a given complexity will overfit a small dataset: this means the training score will be relatively high, while the validation score will be relatively low.\n",
    "* A model of a given complexity will underfit a large dataset: this means that the training score will decrease, but the validation score will increase.\n",
    "* A model will never, except by chance, give a better score to the validation set than the training set: this means the curves should keep getting closer together but never cross."
   ]
  },
  {
   "cell_type": "markdown",
   "metadata": {},
   "source": [
    "# Validation in Practice: Grid Search\n",
    "\n",
    "Scikit-Learn provides automated tools to do this in the grid search module. Here is an example of using grid search to find the optimal polynomial model. We will explore a three-dimensional grid of model features; namely the polynomial degree, the flag telling us whether to fit the intercept, and the flag telling us whether to normalize the problem. This can be set up using Scikit-Learn's `GridSearchCV` meta-estimator:"
   ]
  },
  {
   "cell_type": "code",
   "execution_count": 16,
   "metadata": {},
   "outputs": [
    {
     "name": "stderr",
     "output_type": "stream",
     "text": [
      "C:\\ProgramData\\Anaconda3\\lib\\site-packages\\sklearn\\grid_search.py:42: DeprecationWarning: This module was deprecated in version 0.18 in favor of the model_selection module into which all the refactored classes and functions are moved. This module will be removed in 0.20.\n",
      "  DeprecationWarning)\n"
     ]
    }
   ],
   "source": [
    "# importing grid serach \n",
    "from sklearn.grid_search import GridSearchCV\n",
    "\n",
    "# param grids \n",
    "param_grid = {'polynomialfeatures__degree': np.arange(21),\n",
    "              'linearregression__fit_intercept': [True, False],\n",
    "              'linearregression__normalize': [True, False]}\n",
    "\n",
    "# creating an instance of grid search cv  \n",
    "grid = GridSearchCV(PolynomialRegression(), param_grid, cv=7)"
   ]
  },
  {
   "cell_type": "code",
   "execution_count": 17,
   "metadata": {},
   "outputs": [
    {
     "data": {
      "text/plain": [
       "GridSearchCV(cv=7, error_score='raise',\n",
       "       estimator=Pipeline(memory=None,\n",
       "     steps=[('polynomialfeatures', PolynomialFeatures(degree=2, include_bias=True, interaction_only=False)), ('linearregression', LinearRegression(copy_X=True, fit_intercept=True, n_jobs=1, normalize=False))]),\n",
       "       fit_params={}, iid=True, n_jobs=1,\n",
       "       param_grid={'polynomialfeatures__degree': array([ 0,  1,  2,  3,  4,  5,  6,  7,  8,  9, 10, 11, 12, 13, 14, 15, 16,\n",
       "       17, 18, 19, 20]), 'linearregression__fit_intercept': [True, False], 'linearregression__normalize': [True, False]},\n",
       "       pre_dispatch='2*n_jobs', refit=True, scoring=None, verbose=0)"
      ]
     },
     "execution_count": 17,
     "metadata": {},
     "output_type": "execute_result"
    }
   ],
   "source": [
    "# fitting data into grid \n",
    "grid.fit(X,y)"
   ]
  },
  {
   "cell_type": "code",
   "execution_count": 18,
   "metadata": {},
   "outputs": [
    {
     "data": {
      "text/plain": [
       "{'linearregression__fit_intercept': True,\n",
       " 'linearregression__normalize': True,\n",
       " 'polynomialfeatures__degree': 0}"
      ]
     },
     "execution_count": 18,
     "metadata": {},
     "output_type": "execute_result"
    }
   ],
   "source": [
    "# time to reveal and ask best parameters \n",
    "grid.best_params_"
   ]
  },
  {
   "cell_type": "code",
   "execution_count": 19,
   "metadata": {},
   "outputs": [
    {
     "name": "stderr",
     "output_type": "stream",
     "text": [
      "C:\\ProgramData\\Anaconda3\\lib\\site-packages\\matplotlib\\pyplot.py:3259: MatplotlibDeprecationWarning: The 'hold' keyword argument is deprecated since 2.0.\n",
      "  mplDeprecation)\n"
     ]
    },
    {
     "data": {
      "image/png": "[encoded data removed]",
      "text/plain": [
       "<matplotlib.figure.Figure at 0x1b74ece9a20>"
      ]
     },
     "metadata": {},
     "output_type": "display_data"
    }
   ],
   "source": [
    "# getting best estimator \n",
    "model = grid.best_estimator_\n",
    "\n",
    "# plotting a scatter \n",
    "plt.scatter(X.ravel(),y)\n",
    "\n",
    "# getting lims\n",
    "lim = plt.axis()\n",
    "\n",
    "# predicting the value\n",
    "plt.plot(X_test.ravel(), y_test, hold=True);\n",
    "\n",
    "# applyings limits \n",
    "plt.axis(lim);"
   ]
  }
 ],
 "metadata": {
  "kernelspec": {
   "display_name": "Python 3",
   "language": "python",
   "name": "python3"
  },
  "language_info": {
   "codemirror_mode": {
    "name": "ipython",
    "version": 3
   },
   "file_extension": ".py",
   "mimetype": "text/x-python",
   "name": "python",
   "nbconvert_exporter": "python",
   "pygments_lexer": "ipython3",
   "version": "3.6.4"
  }
 },
 "nbformat": 4,
 "nbformat_minor": 2
}
