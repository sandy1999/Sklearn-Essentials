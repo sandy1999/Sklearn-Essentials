{
 "cells": [
  {
   "cell_type": "markdown",
   "metadata": {},
   "source": [
    "# Linear Regression \n",
    "\n",
    "Linear regression model are good for regression tasks. We are familiar with the simplest form of  linear regression (drawing a straight line) but we can use this model for far more complex stuffs and data points.\n",
    "\n",
    "In this section we are going to deal with intutive talks about the maths behind linear regression and how a linear model can be generalized for complex data."
   ]
  },
  {
   "cell_type": "code",
   "execution_count": 1,
   "metadata": {},
   "outputs": [],
   "source": [
    "# some basic imports \n",
    "%matplotlib inline\n",
    "import matplotlib.pyplot as plt # for plotting \n",
    "import seaborn as sns; sns.set()\n",
    "\n",
    "import numpy as np # for matrix maths"
   ]
  },
  {
   "cell_type": "markdown",
   "metadata": {},
   "source": [
    "# Simple Linear Regression \n",
    "\n",
    "We will start with one of the most basic linear regression which is fitting a stratight line of the form $y = ax + b$.\n",
    "\n",
    "Where $a$ is *slope* of the line, and $b$ is considered as *intercept* of the line.\n",
    "\n",
    "Consider the following data with the slope of *2* and intercept of *-5*:"
   ]
  },
  {
   "cell_type": "code",
   "execution_count": 2,
   "metadata": {},
   "outputs": [
    {
     "data": {
      "image/png": "[encoded data removed]",
      "text/plain": [
       "<matplotlib.figure.Figure at 0x240f3b3f128>"
      ]
     },
     "metadata": {},
     "output_type": "display_data"
    }
   ],
   "source": [
    "# setting a range\n",
    "rng = np.random.RandomState(42)\n",
    "\n",
    "# x values \n",
    "x = rng.rand(50)\n",
    "\n",
    "# y values \n",
    "y = 2 * x -5 + rng.randn(50)\n",
    "\n",
    "# plotting the scatter \n",
    "plt.scatter(x,y);"
   ]
  },
  {
   "cell_type": "markdown",
   "metadata": {},
   "source": [
    "We can use *Scikit-learn's* `LinearRegression` estimator to fit this data and construct the best fit."
   ]
  },
  {
   "cell_type": "code",
   "execution_count": 3,
   "metadata": {},
   "outputs": [
    {
     "data": {
      "image/png": "[encoded data removed]",
      "text/plain": [
       "<matplotlib.figure.Figure at 0x240f3b3f048>"
      ]
     },
     "metadata": {},
     "output_type": "display_data"
    }
   ],
   "source": [
    "# importing linear regression \n",
    "from sklearn.linear_model import LinearRegression\n",
    "\n",
    "# modelling an object of LR \n",
    "model = LinearRegression(fit_intercept=True)\n",
    "\n",
    "# fitting the model \n",
    "model.fit(x[:,np.newaxis],y)\n",
    "\n",
    "# making a test data set \n",
    "xfit = np.linspace(0,10,100)\n",
    "\n",
    "# predicting for xfit\n",
    "yfit = model.predict(xfit[:,np.newaxis])\n",
    "\n",
    "# plotting the graph\n",
    "plt.scatter(x,y) # scatter plot\n",
    "plt.plot(xfit,yfit); # line plot"
   ]
  },
  {
   "cell_type": "markdown",
   "metadata": {},
   "source": [
    "The slope and intercept of the model are:"
   ]
  },
  {
   "cell_type": "code",
   "execution_count": 4,
   "metadata": {},
   "outputs": [
    {
     "name": "stdout",
     "output_type": "stream",
     "text": [
      "The slope is 1.7765660038531037\n",
      "The intercept is  -4.903310725531113\n"
     ]
    }
   ],
   "source": [
    "print(\"The slope is\",model.coef_[0])\n",
    "print(\"The intercept is \",model.intercept_)"
   ]
  },
  {
   "cell_type": "markdown",
   "metadata": {},
   "source": [
    "The `LinearRegression` model is much more capable of this, however-in adition to simple straight-lines fits, it can also handle multidimensional linear model of the form:\n",
    "\n",
    "$$ y = a_0x_0 + a_1x_1 + a_2x_2 + a_3x_3 + ... $$\n",
    "\n",
    "Where there are multiple values $x$ we can fit a hyper-plane or consider a plane in three-dimesion\n",
    "\n",
    "The multidimensional data is hard to visualize, but we can fit that data easily, for example:"
   ]
  },
  {
   "cell_type": "code",
   "execution_count": 5,
   "metadata": {},
   "outputs": [
    {
     "name": "stdout",
     "output_type": "stream",
     "text": [
      "Intercept 0.49999999999999556\n",
      "Coefficients [ 1.5 -2.   1. ]\n"
     ]
    }
   ],
   "source": [
    "# making a 3-d data \n",
    "X = 10 * rng.rand(100,3)\n",
    "\n",
    "# target data \n",
    "y = 0.5 + np.dot(X,[1.5, -2., 1.])\n",
    "\n",
    "# fitting model \n",
    "model.fit(X,y)\n",
    "\n",
    "print(\"Intercept\",model.intercept_)\n",
    "print(\"Coefficients\", model.coef_)"
   ]
  },
  {
   "cell_type": "markdown",
   "metadata": {},
   "source": [
    "Here $y$ data is constructed from three $x$ values, and the linear regression recovers the coefficient used to construct data \n",
    "\n",
    "\n",
    "In this way we can use single `LinearRegression` estimator to fit the lines, planes and hyper-planes. It still appears that only data having linear relationship and we are limited to this part. "
   ]
  },
  {
   "cell_type": "markdown",
   "metadata": {},
   "source": [
    "# Basis Function Regression\n",
    "\n",
    "One trick that you can use to adapt linear regression to non linear relationships between variables is to transform the data according to *basis function*. We can use this using `PolynomialRegression` pipeline as seen in previous modules \n",
    "\n",
    "For example if $f_n(x) = x^n$, our model becomes a polynomial regression:\n",
    "\n",
    "$$y = a_0 + a_1x^1 + a_2x^2 + a_3x^3 + .... $$\n",
    "    \n",
    "Notice that it is still this linear model- the linearity refers to the fact that the coeficients $a_n$ never multiplies or divide each other. What we have effectively done is taken our onen dimensional $x$ values and projected them into a higher dimension, so that a linear fit can fit more complicated relationships between $x$ and $y$."
   ]
  },
  {
   "cell_type": "markdown",
   "metadata": {},
   "source": [
    "## Polynomial Basis Function \n",
    "\n",
    "The polynomial projection is often used to fit more complicated relationships and its built in in *scikit-learn*, we can use `PolynomialFeatures` from it."
   ]
  },
  {
   "cell_type": "code",
   "execution_count": 6,
   "metadata": {},
   "outputs": [
    {
     "data": {
      "text/plain": [
       "array([[ 2.,  4.,  8.],\n",
       "       [ 3.,  9., 27.],\n",
       "       [ 4., 16., 64.]])"
      ]
     },
     "execution_count": 6,
     "metadata": {},
     "output_type": "execute_result"
    }
   ],
   "source": [
    "# importing polynomial features \n",
    "from sklearn.preprocessing import PolynomialFeatures\n",
    "\n",
    "x = np.array([2 , 3 , 4 ])\n",
    "\n",
    "poly = PolynomialFeatures(degree=3, include_bias=False)\n",
    "\n",
    "poly.fit_transform(x[:, None])"
   ]
  },
  {
   "cell_type": "markdown",
   "metadata": {},
   "source": [
    "Here we can see that that our data is been transformed into a three dimensional array from one dimesional array.\n",
    "\n",
    "We can make a pipeline and then perform polynomial regression on this data now, lets make a 7-degree polynomial model:"
   ]
  },
  {
   "cell_type": "code",
   "execution_count": 7,
   "metadata": {},
   "outputs": [],
   "source": [
    "# importing a pipeline function \n",
    "from sklearn.pipeline import make_pipeline\n",
    "\n",
    "# making pipeline\n",
    "poly_model = make_pipeline(PolynomialFeatures(7),\n",
    "                          LinearRegression())"
   ]
  },
  {
   "cell_type": "markdown",
   "metadata": {},
   "source": [
    "With this transformation we can produce a fit between more complicated fit  betweeen $x$ and $y$. For example here is the sine waves with the noise."
   ]
  },
  {
   "cell_type": "code",
   "execution_count": 8,
   "metadata": {},
   "outputs": [
    {
     "data": {
      "image/png": "[encoded data removed]",
      "text/plain": [
       "<matplotlib.figure.Figure at 0x240f39d5ba8>"
      ]
     },
     "metadata": {},
     "output_type": "display_data"
    }
   ],
   "source": [
    "# making a data set \n",
    "# setting random state \n",
    "rng = np.random.RandomState(1)\n",
    "\n",
    "x = rng.rand(50)\n",
    "y = np.sin(x) + 0.1 * rng.randn(50)\n",
    "\n",
    "poly_model.fit(x[:,np.newaxis], y)\n",
    "\n",
    "yfit = poly_model.predict(xfit[:,np.newaxis])\n",
    "plt.scatter(x,y) # scatter plot \n",
    "plt.plot(xfit,yfit); # line plot"
   ]
  },
  {
   "cell_type": "markdown",
   "metadata": {},
   "source": [
    "## Gaussian Basis Function \n",
    "\n",
    "Of course, other basis function can also be used. For example one of the method is to use sum of polynomial data and the other one is the use of *Gaussian sum*.\n",
    "\n",
    "Gaussian function is not built in our *Scikit-learn*  module but we can create our own transformation function can be used to convert data into Gaussian sum and then help us to train and predict our model, as shown in upcoming section:"
   ]
  },
  {
   "cell_type": "code",
   "execution_count": 9,
   "metadata": {},
   "outputs": [
    {
     "data": {
      "image/png": "[encoded data removed]",
      "text/plain": [
       "<matplotlib.figure.Figure at 0x240f0179438>"
      ]
     },
     "metadata": {},
     "output_type": "display_data"
    }
   ],
   "source": [
    "from sklearn.base import BaseEstimator, TransformerMixin\n",
    "\n",
    "class GaussianFeatures(BaseEstimator, TransformerMixin):\n",
    "    \"\"\"Uniformly spaced Gaussian features for one-dimensional input\"\"\"\n",
    "    \n",
    "    def __init__(self, N, width_factor=2.0):\n",
    "        self.N = N\n",
    "        self.width_factor = width_factor\n",
    "    \n",
    "    @staticmethod\n",
    "    def _gauss_basis(x, y, width, axis=None):\n",
    "        arg = (x - y) / width\n",
    "        return np.exp(-0.5 * np.sum(arg ** 2, axis))\n",
    "        \n",
    "    def fit(self, X, y=None):\n",
    "        # create N centers spread along the data range\n",
    "        self.centers_ = np.linspace(X.min(), X.max(), self.N)\n",
    "        self.width_ = self.width_factor * (self.centers_[1] - self.centers_[0])\n",
    "        return self\n",
    "        \n",
    "    def transform(self, X):\n",
    "        return self._gauss_basis(X[:, :, np.newaxis], self.centers_,\n",
    "                                 self.width_, axis=1)\n",
    "    \n",
    "gauss_model = make_pipeline(GaussianFeatures(20),\n",
    "                            LinearRegression())\n",
    "gauss_model.fit(x[:, np.newaxis], y)\n",
    "yfit = gauss_model.predict(xfit[:, np.newaxis])\n",
    "\n",
    "plt.scatter(x, y)\n",
    "plt.plot(xfit, yfit);"
   ]
  }
 ],
 "metadata": {
  "kernelspec": {
   "display_name": "Python 3",
   "language": "python",
   "name": "python3"
  },
  "language_info": {
   "codemirror_mode": {
    "name": "ipython",
    "version": 3
   },
   "file_extension": ".py",
   "mimetype": "text/x-python",
   "name": "python",
   "nbconvert_exporter": "python",
   "pygments_lexer": "ipython3",
   "version": "3.6.4"
  }
 },
 "nbformat": 4,
 "nbformat_minor": 2
}
