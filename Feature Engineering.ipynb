{
 "cells": [
  {
   "cell_type": "markdown",
   "metadata": {},
   "source": [
    "# Feature Engineering \n",
    "\n",
    "In real world data barely comes into a better form. With this in mind `feature engineering` is an important feature or concept in the field. It is taking whaterver information is needed for our model and encoding it with some proper labels. \n",
    "\n",
    "This also includes encoding lables with proper vectors and converting them into a proper matrix which can be used to train our model and make it a better enhanced model with a far better accuracy."
   ]
  },
  {
   "cell_type": "markdown",
   "metadata": {},
   "source": [
    "# Categorial Data \n",
    "\n",
    "When data is not in a numeric format and conatians some other information that is been embarked as strings and additional information than it is been embarked as an categorial data, for example:"
   ]
  },
  {
   "cell_type": "code",
   "execution_count": 1,
   "metadata": {},
   "outputs": [
    {
     "data": {
      "text/plain": [
       "[{'neighborhood': 'South Bombay', 'price': 85000, 'rooms': 5},\n",
       " {'neighborhood': 'Borivoli', 'price': 65000, 'rooms': 3},\n",
       " {'neighborhood': 'Dadar', 'price': 75000, 'rooms': 4},\n",
       " {'neighborhood': 'Thane', 'price': 55000, 'rooms': 5}]"
      ]
     },
     "execution_count": 1,
     "metadata": {},
     "output_type": "execute_result"
    }
   ],
   "source": [
    "# categorial data \n",
    "data = [\n",
    "    {'price': 85000, 'rooms': 5, 'neighborhood':'South Bombay'},\n",
    "    {'price': 65000, 'rooms': 3, 'neighborhood':'Borivoli'},\n",
    "    {'price': 75000, 'rooms': 4, 'neighborhood':'Dadar'},\n",
    "    {'price': 55000, 'rooms': 5, 'neighborhood':'Thane'},\n",
    "]\n",
    "\n",
    "data"
   ]
  },
  {
   "cell_type": "code",
   "execution_count": 2,
   "metadata": {},
   "outputs": [],
   "source": [
    "# wrong way of encoding \n",
    "{'South Bombay':1,'Borivoli':2,'Darar':3};"
   ]
  },
  {
   "cell_type": "markdown",
   "metadata": {},
   "source": [
    "In this case one more effecient way and proven technique is to use one hot encoding which can be used to make a better dictonaries and can create more than one columns for such categorial data. Common package used to do this in Scikit-learn is `DictVectorizer`."
   ]
  },
  {
   "cell_type": "code",
   "execution_count": 3,
   "metadata": {},
   "outputs": [
    {
     "data": {
      "text/plain": [
       "array([[    0,     0,     1,     0, 85000,     5],\n",
       "       [    1,     0,     0,     0, 65000,     3],\n",
       "       [    0,     1,     0,     0, 75000,     4],\n",
       "       [    0,     0,     0,     1, 55000,     5]], dtype=int32)"
      ]
     },
     "execution_count": 3,
     "metadata": {},
     "output_type": "execute_result"
    }
   ],
   "source": [
    "# importing from feature extraction. \n",
    "from sklearn.feature_extraction import DictVectorizer\n",
    "\n",
    "# object of dictvect...\n",
    "vec = DictVectorizer(sparse=False,dtype=int)\n",
    "\n",
    "# fitting our object with data \n",
    "vec.fit_transform(data)"
   ]
  },
  {
   "cell_type": "markdown",
   "metadata": {},
   "source": [
    "> We can notice that this encoding has changed our neighborhood variable into four different columns and which are as follows:"
   ]
  },
  {
   "cell_type": "code",
   "execution_count": 5,
   "metadata": {},
   "outputs": [
    {
     "data": {
      "text/plain": [
       "['neighborhood=Borivoli',\n",
       " 'neighborhood=Dadar',\n",
       " 'neighborhood=South Bombay',\n",
       " 'neighborhood=Thane',\n",
       " 'price',\n",
       " 'rooms']"
      ]
     },
     "execution_count": 5,
     "metadata": {},
     "output_type": "execute_result"
    }
   ],
   "source": [
    "# our features for the data vector \n",
    "vec.feature_names_"
   ]
  }
 ],
 "metadata": {
  "kernelspec": {
   "display_name": "Python 3",
   "language": "python",
   "name": "python3"
  },
  "language_info": {
   "codemirror_mode": {
    "name": "ipython",
    "version": 3
   },
   "file_extension": ".py",
   "mimetype": "text/x-python",
   "name": "python",
   "nbconvert_exporter": "python",
   "pygments_lexer": "ipython3",
   "version": "3.6.4"
  }
 },
 "nbformat": 4,
 "nbformat_minor": 2
}
