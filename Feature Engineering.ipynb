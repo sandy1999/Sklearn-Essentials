{
 "cells": [
  {
   "cell_type": "markdown",
   "metadata": {},
   "source": [
    "# Feature Engineering \n",
    "\n",
    "In real world data barely comes into a better form. With this in mind `feature engineering` is an important feature or concept in the field. It is taking whaterver information is needed for our model and encoding it with some proper labels. \n",
    "\n",
    "This also includes encoding lables with proper vectors and converting them into a proper matrix which can be used to train our model and make it a better enhanced model with a far better accuracy."
   ]
  },
  {
   "cell_type": "markdown",
   "metadata": {},
   "source": [
    "# Categorial Data \n",
    "\n",
    "When data is not in a numeric format and conatians some other information that is been embarked as strings and additional information than it is been embarked as an categorial data, for example:"
   ]
  },
  {
   "cell_type": "code",
   "execution_count": 1,
   "metadata": {},
   "outputs": [
    {
     "data": {
      "text/plain": [
       "[{'neighborhood': 'South Bombay', 'price': 85000, 'rooms': 5},\n",
       " {'neighborhood': 'Borivoli', 'price': 65000, 'rooms': 3},\n",
       " {'neighborhood': 'Dadar', 'price': 75000, 'rooms': 4},\n",
       " {'neighborhood': 'Thane', 'price': 55000, 'rooms': 5}]"
      ]
     },
     "execution_count": 1,
     "metadata": {},
     "output_type": "execute_result"
    }
   ],
   "source": [
    "# categorial data \n",
    "data = [\n",
    "    {'price': 85000, 'rooms': 5, 'neighborhood':'South Bombay'},\n",
    "    {'price': 65000, 'rooms': 3, 'neighborhood':'Borivoli'},\n",
    "    {'price': 75000, 'rooms': 4, 'neighborhood':'Dadar'},\n",
    "    {'price': 55000, 'rooms': 5, 'neighborhood':'Thane'},\n",
    "]\n",
    "\n",
    "data"
   ]
  },
  {
   "cell_type": "code",
   "execution_count": 2,
   "metadata": {},
   "outputs": [],
   "source": [
    "# wrong way of encoding \n",
    "{'South Bombay':1,'Borivoli':2,'Darar':3};"
   ]
  },
  {
   "cell_type": "markdown",
   "metadata": {},
   "source": [
    "In this case one more effecient way and proven technique is to use one hot encoding which can be used to make a better dictonaries and can create more than one columns for such categorial data. Common package used to do this in Scikit-learn is `DictVectorizer`."
   ]
  },
  {
   "cell_type": "code",
   "execution_count": 3,
   "metadata": {},
   "outputs": [
    {
     "data": {
      "text/plain": [
       "array([[    0,     0,     1,     0, 85000,     5],\n",
       "       [    1,     0,     0,     0, 65000,     3],\n",
       "       [    0,     1,     0,     0, 75000,     4],\n",
       "       [    0,     0,     0,     1, 55000,     5]], dtype=int32)"
      ]
     },
     "execution_count": 3,
     "metadata": {},
     "output_type": "execute_result"
    }
   ],
   "source": [
    "# importing from feature extraction. \n",
    "from sklearn.feature_extraction import DictVectorizer\n",
    "\n",
    "# object of dictvect...\n",
    "vec = DictVectorizer(sparse=False,dtype=int)\n",
    "\n",
    "# fitting our object with data \n",
    "vec.fit_transform(data)"
   ]
  },
  {
   "cell_type": "markdown",
   "metadata": {},
   "source": [
    "> We can notice that this encoding has changed our neighborhood variable into four different columns and which are as follows:"
   ]
  },
  {
   "cell_type": "code",
   "execution_count": 5,
   "metadata": {},
   "outputs": [
    {
     "data": {
      "text/plain": [
       "['neighborhood=Borivoli',\n",
       " 'neighborhood=Dadar',\n",
       " 'neighborhood=South Bombay',\n",
       " 'neighborhood=Thane',\n",
       " 'price',\n",
       " 'rooms']"
      ]
     },
     "execution_count": 5,
     "metadata": {},
     "output_type": "execute_result"
    }
   ],
   "source": [
    "# our features for the data vector \n",
    "vec.feature_names_"
   ]
  },
  {
   "cell_type": "markdown",
   "metadata": {},
   "source": [
    "# Text Features\n",
    "\n",
    "Another common need in feature engineering is the requirement to convert text data into useful numerical data which can be further harnessed to make a better model and increase efficieny of the model."
   ]
  },
  {
   "cell_type": "code",
   "execution_count": 6,
   "metadata": {},
   "outputs": [
    {
     "data": {
      "text/plain": [
       "['this is a lovely day',\n",
       " 'Is this even a day yet ?',\n",
       " 'I am already in love with this data.']"
      ]
     },
     "execution_count": 6,
     "metadata": {},
     "output_type": "execute_result"
    }
   ],
   "source": [
    "# sample text data \n",
    "sample = [\n",
    "    'this is a lovely day',\n",
    "    'Is this even a day yet ?',\n",
    "    'I am already in love with this data.'\n",
    "]\n",
    "sample"
   ]
  },
  {
   "cell_type": "markdown",
   "metadata": {},
   "source": [
    "For converting this data into a vectorized data we are going to break each and every word and put it into a column. Which can be done using `CountVectorizer` class in Scikit-learn."
   ]
  },
  {
   "cell_type": "code",
   "execution_count": 7,
   "metadata": {},
   "outputs": [
    {
     "data": {
      "text/plain": [
       "<3x12 sparse matrix of type '<class 'numpy.int64'>'\n",
       "\twith 16 stored elements in Compressed Sparse Row format>"
      ]
     },
     "execution_count": 7,
     "metadata": {},
     "output_type": "execute_result"
    }
   ],
   "source": [
    "# importing library\n",
    "\n",
    "from sklearn.feature_extraction.text import CountVectorizer\n",
    "\n",
    "# creating an object \n",
    "vec = CountVectorizer()\n",
    "\n",
    "# fitting sample data into a x variable using vec\n",
    "X = vec.fit_transform(sample)\n",
    "X"
   ]
  },
  {
   "cell_type": "markdown",
   "metadata": {},
   "source": [
    "The result is a sparse tree constructed about the words count int our data which can be visualized with the help of `Data Frame` using pandas."
   ]
  },
  {
   "cell_type": "code",
   "execution_count": 8,
   "metadata": {},
   "outputs": [
    {
     "data": {
      "text/html": [
       "<div>\n",
       "<style scoped>\n",
       "    .dataframe tbody tr th:only-of-type {\n",
       "        vertical-align: middle;\n",
       "    }\n",
       "\n",
       "    .dataframe tbody tr th {\n",
       "        vertical-align: top;\n",
       "    }\n",
       "\n",
       "    .dataframe thead th {\n",
       "        text-align: right;\n",
       "    }\n",
       "</style>\n",
       "<table border=\"1\" class=\"dataframe\">\n",
       "  <thead>\n",
       "    <tr style=\"text-align: right;\">\n",
       "      <th></th>\n",
       "      <th>already</th>\n",
       "      <th>am</th>\n",
       "      <th>data</th>\n",
       "      <th>day</th>\n",
       "      <th>even</th>\n",
       "      <th>in</th>\n",
       "      <th>is</th>\n",
       "      <th>love</th>\n",
       "      <th>lovely</th>\n",
       "      <th>this</th>\n",
       "      <th>with</th>\n",
       "      <th>yet</th>\n",
       "    </tr>\n",
       "  </thead>\n",
       "  <tbody>\n",
       "    <tr>\n",
       "      <th>0</th>\n",
       "      <td>0</td>\n",
       "      <td>0</td>\n",
       "      <td>0</td>\n",
       "      <td>1</td>\n",
       "      <td>0</td>\n",
       "      <td>0</td>\n",
       "      <td>1</td>\n",
       "      <td>0</td>\n",
       "      <td>1</td>\n",
       "      <td>1</td>\n",
       "      <td>0</td>\n",
       "      <td>0</td>\n",
       "    </tr>\n",
       "    <tr>\n",
       "      <th>1</th>\n",
       "      <td>0</td>\n",
       "      <td>0</td>\n",
       "      <td>0</td>\n",
       "      <td>1</td>\n",
       "      <td>1</td>\n",
       "      <td>0</td>\n",
       "      <td>1</td>\n",
       "      <td>0</td>\n",
       "      <td>0</td>\n",
       "      <td>1</td>\n",
       "      <td>0</td>\n",
       "      <td>1</td>\n",
       "    </tr>\n",
       "    <tr>\n",
       "      <th>2</th>\n",
       "      <td>1</td>\n",
       "      <td>1</td>\n",
       "      <td>1</td>\n",
       "      <td>0</td>\n",
       "      <td>0</td>\n",
       "      <td>1</td>\n",
       "      <td>0</td>\n",
       "      <td>1</td>\n",
       "      <td>0</td>\n",
       "      <td>1</td>\n",
       "      <td>1</td>\n",
       "      <td>0</td>\n",
       "    </tr>\n",
       "  </tbody>\n",
       "</table>\n",
       "</div>"
      ],
      "text/plain": [
       "   already  am  data  day  even  in  is  love  lovely  this  with  yet\n",
       "0        0   0     0    1     0   0   1     0       1     1     0    0\n",
       "1        0   0     0    1     1   0   1     0       0     1     0    1\n",
       "2        1   1     1    0     0   1   0     1       0     1     1    0"
      ]
     },
     "execution_count": 8,
     "metadata": {},
     "output_type": "execute_result"
    }
   ],
   "source": [
    "# importing pandas \n",
    "import pandas as pd \n",
    "\n",
    "# creating data frame \n",
    "pd.DataFrame(X.toarray(), columns=vec.get_feature_names())"
   ]
  },
  {
   "cell_type": "markdown",
   "metadata": {},
   "source": [
    "However this approach can be very cumbersome for some of the reasons or place where data increases rapidly and can also put lots of stress on the words which are occuring frequently. \n",
    "\n",
    "To overcome this problem we can use *Term ferquency - inverse documented frequency (TF-IDF)* which weighs the words by how frequentlyl they appears in the document for example:"
   ]
  },
  {
   "cell_type": "code",
   "execution_count": 14,
   "metadata": {},
   "outputs": [
    {
     "data": {
      "text/html": [
       "<div>\n",
       "<style scoped>\n",
       "    .dataframe tbody tr th:only-of-type {\n",
       "        vertical-align: middle;\n",
       "    }\n",
       "\n",
       "    .dataframe tbody tr th {\n",
       "        vertical-align: top;\n",
       "    }\n",
       "\n",
       "    .dataframe thead th {\n",
       "        text-align: right;\n",
       "    }\n",
       "</style>\n",
       "<table border=\"1\" class=\"dataframe\">\n",
       "  <thead>\n",
       "    <tr style=\"text-align: right;\">\n",
       "      <th></th>\n",
       "      <th>already</th>\n",
       "      <th>am</th>\n",
       "      <th>data</th>\n",
       "      <th>day</th>\n",
       "      <th>even</th>\n",
       "      <th>in</th>\n",
       "      <th>is</th>\n",
       "      <th>love</th>\n",
       "      <th>lovely</th>\n",
       "      <th>this</th>\n",
       "      <th>with</th>\n",
       "      <th>yet</th>\n",
       "    </tr>\n",
       "  </thead>\n",
       "  <tbody>\n",
       "    <tr>\n",
       "      <th>0</th>\n",
       "      <td>0.000000</td>\n",
       "      <td>0.000000</td>\n",
       "      <td>0.000000</td>\n",
       "      <td>0.480458</td>\n",
       "      <td>0.000000</td>\n",
       "      <td>0.000000</td>\n",
       "      <td>0.480458</td>\n",
       "      <td>0.000000</td>\n",
       "      <td>0.631745</td>\n",
       "      <td>0.373119</td>\n",
       "      <td>0.000000</td>\n",
       "      <td>0.000000</td>\n",
       "    </tr>\n",
       "    <tr>\n",
       "      <th>1</th>\n",
       "      <td>0.000000</td>\n",
       "      <td>0.000000</td>\n",
       "      <td>0.000000</td>\n",
       "      <td>0.406192</td>\n",
       "      <td>0.534093</td>\n",
       "      <td>0.000000</td>\n",
       "      <td>0.406192</td>\n",
       "      <td>0.000000</td>\n",
       "      <td>0.000000</td>\n",
       "      <td>0.315444</td>\n",
       "      <td>0.000000</td>\n",
       "      <td>0.534093</td>\n",
       "    </tr>\n",
       "    <tr>\n",
       "      <th>2</th>\n",
       "      <td>0.396875</td>\n",
       "      <td>0.396875</td>\n",
       "      <td>0.396875</td>\n",
       "      <td>0.000000</td>\n",
       "      <td>0.000000</td>\n",
       "      <td>0.396875</td>\n",
       "      <td>0.000000</td>\n",
       "      <td>0.396875</td>\n",
       "      <td>0.000000</td>\n",
       "      <td>0.234400</td>\n",
       "      <td>0.396875</td>\n",
       "      <td>0.000000</td>\n",
       "    </tr>\n",
       "  </tbody>\n",
       "</table>\n",
       "</div>"
      ],
      "text/plain": [
       "    already        am      data       day      even        in        is  \\\n",
       "0  0.000000  0.000000  0.000000  0.480458  0.000000  0.000000  0.480458   \n",
       "1  0.000000  0.000000  0.000000  0.406192  0.534093  0.000000  0.406192   \n",
       "2  0.396875  0.396875  0.396875  0.000000  0.000000  0.396875  0.000000   \n",
       "\n",
       "       love    lovely      this      with       yet  \n",
       "0  0.000000  0.631745  0.373119  0.000000  0.000000  \n",
       "1  0.000000  0.000000  0.315444  0.000000  0.534093  \n",
       "2  0.396875  0.000000  0.234400  0.396875  0.000000  "
      ]
     },
     "execution_count": 14,
     "metadata": {},
     "output_type": "execute_result"
    }
   ],
   "source": [
    "# importinf tfdif class \n",
    "from sklearn.feature_extraction.text import TfidfVectorizer\n",
    "\n",
    "# creating a tfidf object\n",
    "vec =  TfidfVectorizer()\n",
    "\n",
    "# fitting sample data into X via vec\n",
    "X = vec.fit_transform(sample)\n",
    "\n",
    "# creating a data frame \n",
    "pd.DataFrame(X.toarray(), columns=vec.get_feature_names())"
   ]
  }
 ],
 "metadata": {
  "kernelspec": {
   "display_name": "Python 3",
   "language": "python",
   "name": "python3"
  },
  "language_info": {
   "codemirror_mode": {
    "name": "ipython",
    "version": 3
   },
   "file_extension": ".py",
   "mimetype": "text/x-python",
   "name": "python",
   "nbconvert_exporter": "python",
   "pygments_lexer": "ipython3",
   "version": "3.6.4"
  }
 },
 "nbformat": 4,
 "nbformat_minor": 2
}
