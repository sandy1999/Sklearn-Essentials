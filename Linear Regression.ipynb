{
 "cells": [
  {
   "cell_type": "markdown",
   "metadata": {},
   "source": [
    "# Linear Regression \n",
    "\n",
    "Linear regression model are good for regression tasks. We are familiar with the simplest form of  linear regression (drawing a straight line) but we can use this model for far more complex stuffs and data points.\n",
    "\n",
    "In this section we are going to deal with intutive talks about the maths behind linear regression and how a linear model can be generalized for complex data."
   ]
  },
  {
   "cell_type": "code",
   "execution_count": 1,
   "metadata": {},
   "outputs": [],
   "source": [
    "# some basic imports \n",
    "%matplotlib inline\n",
    "import matplotlib.pyplot as plt # for plotting \n",
    "import seaborn as sns; sns.set()\n",
    "\n",
    "import numpy as np # for matrix maths"
   ]
  },
  {
   "cell_type": "markdown",
   "metadata": {},
   "source": [
    "# Simple Linear Regression \n",
    "\n",
    "We will start with one of the most basic linear regression which is fitting a stratight line of the form $y = ax + b$.\n",
    "\n",
    "Where $a$ is *slope* of the line, and $b$ is considered as *intercept* of the line.\n",
    "\n",
    "Consider the following data with the slope of *2* and intercept of *-5*:"
   ]
  },
  {
   "cell_type": "code",
   "execution_count": 2,
   "metadata": {},
   "outputs": [
    {
     "data": {
      "image/png": "[encoded data removed]",
      "text/plain": [
       "<matplotlib.figure.Figure at 0x2235ce9f198>"
      ]
     },
     "metadata": {},
     "output_type": "display_data"
    }
   ],
   "source": [
    "# setting a range\n",
    "rng = np.random.RandomState(42)\n",
    "\n",
    "# x values \n",
    "x = rng.rand(50)\n",
    "\n",
    "# y values \n",
    "y = 2 * x -5 + rng.randn(50)\n",
    "\n",
    "# plotting the scatter \n",
    "plt.scatter(x,y);"
   ]
  },
  {
   "cell_type": "markdown",
   "metadata": {},
   "source": [
    "We can use *Scikit-learn's* `LinearRegression` estimator to fit this data and construct the best fit."
   ]
  },
  {
   "cell_type": "code",
   "execution_count": 3,
   "metadata": {},
   "outputs": [
    {
     "data": {
      "image/png": "[encoded data removed]",
      "text/plain": [
       "<matplotlib.figure.Figure at 0x2235cfdeef0>"
      ]
     },
     "metadata": {},
     "output_type": "display_data"
    }
   ],
   "source": [
    "# importing linear regression \n",
    "from sklearn.linear_model import LinearRegression\n",
    "\n",
    "# modelling an object of LR \n",
    "model = LinearRegression(fit_intercept=True)\n",
    "\n",
    "# fitting the model \n",
    "model.fit(x[:,np.newaxis],y)\n",
    "\n",
    "# making a test data set \n",
    "xfit = np.linspace(0,10,1000)\n",
    "\n",
    "# predicting for xfit\n",
    "yfit = model.predict(xfit[:,np.newaxis])\n",
    "\n",
    "# plotting the graph\n",
    "plt.scatter(x,y) # scatter plot\n",
    "plt.plot(xfit,yfit); # line plot"
   ]
  },
  {
   "cell_type": "markdown",
   "metadata": {},
   "source": [
    "The slope and intercept of the model are:"
   ]
  },
  {
   "cell_type": "code",
   "execution_count": 4,
   "metadata": {},
   "outputs": [
    {
     "name": "stdout",
     "output_type": "stream",
     "text": [
      "The slope is 1.7765660038531037\n",
      "The intercept is  -4.903310725531113\n"
     ]
    }
   ],
   "source": [
    "print(\"The slope is\",model.coef_[0])\n",
    "print(\"The intercept is \",model.intercept_)"
   ]
  },
  {
   "cell_type": "markdown",
   "metadata": {},
   "source": [
    "The `LinearRegression` model is much more capable of this, however-in adition to simple straight-lines fits, it can also handle multidimensional linear model of the form:\n",
    "\n",
    "**y = a<sub>0</sub>x<sub>0</sub> + a<sub>1</sub>x<sub>1</sub> + a<sub>2</sub>x<sub>2</sub> + .....**\n",
    "\n",
    "Where there are multiple values $x$ we can fit a hyper-plane or consider a plane in three-dimesion\n",
    "\n",
    "The multidimensional data is hard to visualize, but we can fit that data easily, for example:"
   ]
  },
  {
   "cell_type": "code",
   "execution_count": 5,
   "metadata": {},
   "outputs": [
    {
     "name": "stdout",
     "output_type": "stream",
     "text": [
      "Intercept 0.49999999999999556\n",
      "Coefficients [ 1.5 -2.   1. ]\n"
     ]
    }
   ],
   "source": [
    "# making a 3-d data \n",
    "X = 10 * rng.rand(100,3)\n",
    "\n",
    "# target data \n",
    "y = 0.5 + np.dot(X,[1.5, -2., 1.])\n",
    "\n",
    "# fitting model \n",
    "model.fit(X,y)\n",
    "\n",
    "print(\"Intercept\",model.intercept_)\n",
    "print(\"Coefficients\", model.coef_)"
   ]
  },
  {
   "cell_type": "markdown",
   "metadata": {},
   "source": [
    "Here $y$ data is constructed from three $x$ values, and the linear regression recovers the coefficient used to construct data \n",
    "\n",
    "\n",
    "In this way we can use single `LinearRegression` estimator to fit the lines, planes and hyper-planes. It still appears that only data having linear relationship and "
   ]
  }
 ],
 "metadata": {
  "kernelspec": {
   "display_name": "Python 3",
   "language": "python",
   "name": "python3"
  },
  "language_info": {
   "codemirror_mode": {
    "name": "ipython",
    "version": 3
   },
   "file_extension": ".py",
   "mimetype": "text/x-python",
   "name": "python",
   "nbconvert_exporter": "python",
   "pygments_lexer": "ipython3",
   "version": "3.6.4"
  }
 },
 "nbformat": 4,
 "nbformat_minor": 2
}
